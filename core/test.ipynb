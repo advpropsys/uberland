{
 "cells": [
  {
   "cell_type": "code",
   "execution_count": 6,
   "metadata": {},
   "outputs": [
    {
     "name": "stdout",
     "output_type": "stream",
     "text": [
      "41269\n"
     ]
    }
   ],
   "source": [
    "import googlemaps\n",
    "from dotenv import load_dotenv\n",
    "load_dotenv()\n",
    "from datetime import datetime\n",
    "# Set coords\n",
    "import os\n",
    "coords_0 = '55.76484319999999,37.605362'\n",
    "coords_1 = '55.5456456,37.5898331'\n",
    "# Init client\n",
    "gmaps = googlemaps.Client(key=os.getenv(\"GOOGLE_MAPS_API_KEY\"))\n",
    "# Request directions\n",
    "now = datetime.now()\n",
    "directions_result = gmaps.directions(coords_0, coords_1, mode=\"driving\", departure_time=now, avoid='tolls')\n",
    "\n",
    "# Get distance\n",
    "distance = 0\n",
    "legs = directions_result[0].get(\"legs\")\n",
    "for leg in legs:\n",
    "    distance = distance + leg.get(\"distance\").get(\"value\")\n",
    "print(distance)"
   ]
  },
  {
   "cell_type": "code",
   "execution_count": 5,
   "metadata": {},
   "outputs": [
    {
     "ename": "TypeError",
     "evalue": "'int' object is not iterable",
     "output_type": "error",
     "traceback": [
      "\u001b[0;31m---------------------------------------------------------------------------\u001b[0m",
      "\u001b[0;31mTypeError\u001b[0m                                 Traceback (most recent call last)",
      "\u001b[1;32m/Users/apsys/uber/core/test.ipynb Cell 2\u001b[0m line \u001b[0;36m1\n\u001b[0;32m----> <a href='vscode-notebook-cell:/Users/apsys/uber/core/test.ipynb#W2sZmlsZQ%3D%3D?line=0'>1</a>\u001b[0m \u001b[39mlist\u001b[39;49m(\u001b[39m999\u001b[39;49m)\n",
      "\u001b[0;31mTypeError\u001b[0m: 'int' object is not iterable"
     ]
    }
   ],
   "source": [
    "list(999)"
   ]
  },
  {
   "cell_type": "code",
   "execution_count": 2,
   "metadata": {},
   "outputs": [
    {
     "data": {
      "text/plain": [
       "[{'bounds': {'northeast': {'lat': 43.7078529, 'lng': -79.3929763},\n",
       "   'southwest': {'lat': 43.7073038, 'lng': -79.39563679999999}},\n",
       "  'copyrights': 'Map data ©2023 Google',\n",
       "  'legs': [{'distance': {'text': '0.2 km', 'value': 222},\n",
       "    'duration': {'text': '1 min', 'value': 53},\n",
       "    'duration_in_traffic': {'text': '1 min', 'value': 47},\n",
       "    'end_address': 'Eglinton Ave East at Redpath Ave, Toronto, ON M4P 1J2, Canada',\n",
       "    'end_location': {'lat': 43.7078529, 'lng': -79.3929763},\n",
       "    'start_address': 'Eglinton Ave East at Dunfield Ave, Toronto, ON M4P 3A4, Canada',\n",
       "    'start_location': {'lat': 43.7073038, 'lng': -79.39563679999999},\n",
       "    'steps': [{'distance': {'text': '0.2 km', 'value': 222},\n",
       "      'duration': {'text': '1 min', 'value': 53},\n",
       "      'end_location': {'lat': 43.7078529, 'lng': -79.3929763},\n",
       "      'html_instructions': 'Head <b>east</b> on <b>Eglinton Ave E</b> toward <b>Dunfield Ave</b><div style=\"font-size:0.9em\">Destination will be on the right</div>',\n",
       "      'polyline': {'points': 'sqwiGv}qcNGc@Kq@k@wEm@eF'},\n",
       "      'start_location': {'lat': 43.7073038, 'lng': -79.39563679999999},\n",
       "      'travel_mode': 'DRIVING'}],\n",
       "    'traffic_speed_entry': [],\n",
       "    'via_waypoint': []}],\n",
       "  'overview_polyline': {'points': 'sqwiGv}qcNmBsO'},\n",
       "  'summary': 'Eglinton Ave E',\n",
       "  'warnings': [],\n",
       "  'waypoint_order': []}]"
      ]
     },
     "execution_count": 2,
     "metadata": {},
     "output_type": "execute_result"
    }
   ],
   "source": [
    "directions_result"
   ]
  }
 ],
 "metadata": {
  "kernelspec": {
   "display_name": "Python 3",
   "language": "python",
   "name": "python3"
  },
  "language_info": {
   "codemirror_mode": {
    "name": "ipython",
    "version": 3
   },
   "file_extension": ".py",
   "mimetype": "text/x-python",
   "name": "python",
   "nbconvert_exporter": "python",
   "pygments_lexer": "ipython3",
   "version": "3.10.8"
  },
  "orig_nbformat": 4
 },
 "nbformat": 4,
 "nbformat_minor": 2
}
