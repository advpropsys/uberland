{
 "cells": [
  {
   "cell_type": "code",
   "execution_count": null,
   "metadata": {},
   "outputs": [],
   "source": [
    "import googlemaps\n",
    "from dotenv import load_dotenv\n",
    "load_dotenv()\n",
    "from datetime import datetime\n",
    "# Set coords\n",
    "import os\n",
    "coords_0 = '43.70721,-79.3955999'\n",
    "coords_1 = '43.7077599,-79.39294'\n",
    "# Init client\n",
    "gmaps = googlemaps.Client(key=os.getenv(\"GOOGLE_MAPS_API_KEY\"))\n",
    "# Request directions\n",
    "now = datetime.now()\n",
    "directions_result = gmaps.directions(coords_0, coords_1, mode=\"driving\", departure_time=now, avoid='tolls')\n",
    "\n",
    "# Get distance\n",
    "distance = 0\n",
    "legs = directions_result[0].get(\"legs\")\n",
    "for leg in legs:\n",
    "    distance = distance + leg.get(\"distance\").get(\"value\")\n",
    "print(distance)"
   ]
  }
 ],
 "metadata": {
  "language_info": {
   "name": "python"
  },
  "orig_nbformat": 4
 },
 "nbformat": 4,
 "nbformat_minor": 2
}
